{
 "cells": [
  {
   "cell_type": "code",
   "execution_count": null,
   "id": "7bd0da75",
   "metadata": {},
   "outputs": [
    {
     "name": "stdout",
     "output_type": "stream",
     "text": [
      "O computador retirou 1 fósforos. Restam 20.\n",
      "O computador retirou 1 fósforos. Restam 15.\n",
      "O computador retirou 2 fósforos. Restam 9.\n",
      "O computador retirou 2 fósforos. Restam 4.\n",
      "Venceste\n"
     ]
    }
   ],
   "source": [
    "import random\n",
    "\n",
    "nivel = input(\"Deseja ser o primeiro a jogar? (s/n) \")\n",
    "\n",
    "def fosforos(a, fosf):\n",
    "    if a == 1:\n",
    "        fosf = fosf - 4 \n",
    "    elif a == 2:   \n",
    "        fosf = fosf - 3 \n",
    "    elif a == 3:    \n",
    "        fosf = fosf - 2 \n",
    "    elif a == 4: \n",
    "        fosf = fosf - 1\n",
    "    return fosf\n",
    "\n",
    "fosf = 21\n",
    "\n",
    "if nivel == \"s\":\n",
    "    while fosf > 1:\n",
    "        a = int(input(f\"Possui {fosf} Quantos fósforos deseja retirar?\"))\n",
    "        fosf = fosf - a\n",
    "        fosf = fosforos(a, fosf)\n",
    "    print(\"O computador venceu!\")\n",
    "\n",
    "else: \n",
    "    num = random.randint(1, 4)\n",
    "    fosf -= num\n",
    "    print(f\"O computador retirou {num} fósforos. Restam {fosf}.\")\n",
    "\n",
    "    while fosf > 1:\n",
    "        num1 = int(input(f\"Há {fosf} fósforos. Quantos deseja retirar (1-4)? \"))\n",
    "        while num1 < 1 or num1 > 4 or num1 > fosf:\n",
    "            num1 = int(input(\"Valor inválido Escolha entre 1 e 4: \"))\n",
    "        fosf -= num1\n",
    "\n",
    "        if fosf == 1:\n",
    "            print(\"Venceste\")\n",
    "            break\n",
    "\n",
    "        if (fosf % 5) != 1:\n",
    "            num = (fosf - 1) % 5\n",
    "            if num == 0:\n",
    "                num = random.randint(1, min(4, fosf - 1))\n",
    "\n",
    "        else:\n",
    "            num = random.randint(1, min(4, fosf - 1))\n",
    "\n",
    "        fosf -= num\n",
    "        print(f\"O computador retirou {num} fósforos. Restam {fosf}\")\n",
    "\n",
    "        if fosf == 1:\n",
    "            print(\"O computador venceu\")\n",
    "            break"
   ]
  }
 ],
 "metadata": {
  "kernelspec": {
   "display_name": "Python 3",
   "language": "python",
   "name": "python3"
  },
  "language_info": {
   "codemirror_mode": {
    "name": "ipython",
    "version": 3
   },
   "file_extension": ".py",
   "mimetype": "text/x-python",
   "name": "python",
   "nbconvert_exporter": "python",
   "pygments_lexer": "ipython3",
   "version": "3.13.7"
  }
 },
 "nbformat": 4,
 "nbformat_minor": 5
}
